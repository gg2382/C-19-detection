{
  "cells": [
    {
      "cell_type": "code",
      "execution_count": null,
      "id": "KXfkDY15pc5v",
      "metadata": {
        "id": "KXfkDY15pc5v"
      },
      "outputs": [],
      "source": [
        "import numpy as np\n",
        "import pandas as pd\n",
        "import seaborn as sns\n",
        "from matplotlib import pyplot as plt\n",
        "import time\n",
        "from sklearn.preprocessing import LabelEncoder\n",
        "from sklearn.model_selection import train_test_split\n",
        "from sklearn import metrics\n",
        "from sklearn.metrics import accuracy_score\n",
        "from sklearn.model_selection import GridSearchCV\n",
        "from sklearn.metrics import classification_report,confusion_matrix, roc_auc_score, mean_squared_error,r2_score, accuracy_score\n",
        "from sklearn.linear_model import LogisticRegression\n",
        "from sklearn.neighbors import KNeighborsClassifier\n",
        "from sklearn.ensemble import RandomForestClassifier\n",
        "from sklearn.ensemble import GradientBoostingClassifier\n",
        "from sklearn import tree\n",
        "from sklearn.naive_bayes import GaussianNB\n",
        "from sklearn import svm\n"
      ]
    },
    {
      "cell_type": "code",
      "execution_count": null,
      "id": "AyYv1-Lvpc5y",
      "metadata": {
        "id": "AyYv1-Lvpc5y"
      },
      "outputs": [],
      "source": [
        "covid_data = pd.read_csv(\"Covid Dataset.csv\")"
      ]
    },
    {
      "cell_type": "code",
      "execution_count": null,
      "id": "tTKVjYoOpc5z",
      "metadata": {
        "colab": {
          "base_uri": "https://localhost:8080/",
          "height": 530
        },
        "id": "tTKVjYoOpc5z",
        "outputId": "c1bf8fba-35ff-4f2f-e14d-6199d7cdf85e"
      },
      "outputs": [],
      "source": [
        "covid_data"
      ]
    },
    {
      "cell_type": "code",
      "execution_count": null,
      "id": "1EQ7Bp7mpc50",
      "metadata": {
        "colab": {
          "base_uri": "https://localhost:8080/"
        },
        "id": "1EQ7Bp7mpc50",
        "outputId": "5e8cd5ef-8d39-46d9-d49a-5c7f438fd5e4"
      },
      "outputs": [],
      "source": [
        "covid_data.shape"
      ]
    },
    {
      "cell_type": "code",
      "execution_count": null,
      "id": "qbGZ_C8Ipc50",
      "metadata": {
        "colab": {
          "base_uri": "https://localhost:8080/"
        },
        "id": "qbGZ_C8Ipc50",
        "outputId": "d005acd0-dd4d-4184-e68b-edb4b1e4834e"
      },
      "outputs": [],
      "source": [
        "covid_data.columns"
      ]
    },
    {
      "cell_type": "code",
      "execution_count": null,
      "id": "QbkuNYf4pc50",
      "metadata": {
        "colab": {
          "base_uri": "https://localhost:8080/"
        },
        "id": "QbkuNYf4pc50",
        "outputId": "2d2b5c95-c9d6-4ff0-bc26-49c11974c3a7"
      },
      "outputs": [],
      "source": [
        "covid_data.info()"
      ]
    },
    {
      "cell_type": "code",
      "execution_count": null,
      "id": "WwmdmMoBpc51",
      "metadata": {
        "colab": {
          "base_uri": "https://localhost:8080/",
          "height": 708
        },
        "id": "WwmdmMoBpc51",
        "outputId": "75581fd4-7a96-4c50-8362-857668135862"
      },
      "outputs": [],
      "source": [
        "covid_data.describe().T"
      ]
    },
    {
      "cell_type": "code",
      "execution_count": null,
      "id": "ejl_1Qdcpc51",
      "metadata": {
        "colab": {
          "base_uri": "https://localhost:8080/",
          "height": 313
        },
        "id": "ejl_1Qdcpc51",
        "outputId": "97940266-10c3-4495-b485-cf163017b3ca"
      },
      "outputs": [],
      "source": [
        "covid_data.head()"
      ]
    },
    {
      "cell_type": "code",
      "execution_count": null,
      "id": "dUsnw6SFpc52",
      "metadata": {
        "colab": {
          "base_uri": "https://localhost:8080/",
          "height": 708
        },
        "id": "dUsnw6SFpc52",
        "outputId": "e574e03f-6334-40be-d256-47cf9e2f87fa"
      },
      "outputs": [],
      "source": [
        "# create a table with data missing \n",
        "missing_values=covid_data.isnull().sum() # missing values\n",
        "\n",
        "percent_missing = covid_data.isnull().sum()/covid_data.shape[0]*100 # missing value %\n",
        "\n",
        "value = {\n",
        "    'missing_values ':missing_values,\n",
        "    'percent_missing %':percent_missing  \n",
        "}\n",
        "frame=pd.DataFrame(value)\n",
        "frame"
      ]
    },
    {
      "cell_type": "code",
      "execution_count": null,
      "id": "akom_CtRpc52",
      "metadata": {
        "colab": {
          "base_uri": "https://localhost:8080/",
          "height": 474
        },
        "id": "akom_CtRpc52",
        "outputId": "95a340c8-123f-4ef2-d8b0-4b9e1de481f8"
      },
      "outputs": [],
      "source": [
        "sns.heatmap(covid_data.isnull(),yticklabels=False,cbar=False,cmap='Pastel1')"
      ]
    },
    {
      "cell_type": "code",
      "execution_count": null,
      "id": "jNQo750ypc53",
      "metadata": {
        "colab": {
          "base_uri": "https://localhost:8080/",
          "height": 279
        },
        "id": "jNQo750ypc53",
        "outputId": "cc2e217f-a096-441e-943c-72d7aeca1e36"
      },
      "outputs": [],
      "source": [
        "ax = sns.countplot(x='COVID-19',data=covid_data, palette=\"PuRd\")\n",
        "for p in ax.patches:\n",
        "     ax.annotate(f'\\n{p.get_height()}', (p.get_x()+0.4, p.get_height()+100), ha='center', va='top', color='white', size=10)\n",
        "plt.show()"
      ]
    },
    {
      "cell_type": "code",
      "execution_count": null,
      "id": "XZbJ8p9Cpc53",
      "metadata": {
        "colab": {
          "base_uri": "https://localhost:8080/",
          "height": 264
        },
        "id": "XZbJ8p9Cpc53",
        "outputId": "c4936aa9-c1b3-45dd-d088-541a2580ed44"
      },
      "outputs": [],
      "source": [
        "covid_data[\"COVID-19\"].value_counts().plot.pie(explode=[0.1,0.1],autopct='%1.1f%%',shadow=True)\n",
        "plt.title('Covid Positive');"
      ]
    },
    {
      "cell_type": "code",
      "execution_count": null,
      "id": "uSOe6DYqpc53",
      "metadata": {
        "colab": {
          "base_uri": "https://localhost:8080/",
          "height": 279
        },
        "id": "uSOe6DYqpc53",
        "outputId": "81049e87-16f8-4cd4-894e-5f100e1381de"
      },
      "outputs": [],
      "source": [
        "ax = sns.countplot(x='Breathing Problem',data=covid_data, palette=\"Set1\")\n",
        "for p in ax.patches:\n",
        "     ax.annotate(f'\\n{p.get_height()}', (p.get_x()+0.4, p.get_height()+100), ha='center', va='top', color='white', size=10)\n",
        "plt.show()"
      ]
    },
    {
      "cell_type": "code",
      "execution_count": null,
      "id": "IbMAvqESpc54",
      "metadata": {
        "colab": {
          "base_uri": "https://localhost:8080/",
          "height": 281
        },
        "id": "IbMAvqESpc54",
        "outputId": "7afa5335-6d7e-4f94-ceb6-63881a80b3cc"
      },
      "outputs": [],
      "source": [
        "ax = sns.countplot(x='Breathing Problem',hue='COVID-19',data=covid_data, palette=\"Set2\")\n",
        "for p in ax.patches:\n",
        "     ax.annotate(f'\\n{p.get_height()}', (p.get_x()+0.2, p.get_height()+100), ha='center', va='top', color='white', size=10)\n",
        "plt.show()"
      ]
    },
    {
      "cell_type": "code",
      "execution_count": null,
      "id": "omlA74Qhpc54",
      "metadata": {
        "colab": {
          "base_uri": "https://localhost:8080/",
          "height": 279
        },
        "id": "omlA74Qhpc54",
        "outputId": "5a9213dd-ee6d-4fd6-821c-c7a66a62d1cb"
      },
      "outputs": [],
      "source": [
        "ax = sns.countplot(x='Fever',data=covid_data)\n",
        "for p in ax.patches:\n",
        "     ax.annotate(f'\\n{p.get_height()}', (p.get_x()+0.4, p.get_height()+100), ha='center', va='top', color='white', size=10)\n",
        "plt.show()"
      ]
    },
    {
      "cell_type": "code",
      "execution_count": null,
      "id": "WNztzK6Xpc54",
      "metadata": {
        "colab": {
          "base_uri": "https://localhost:8080/",
          "height": 279
        },
        "id": "WNztzK6Xpc54",
        "outputId": "34134bee-a22a-4461-f1a0-916d0b3d7698"
      },
      "outputs": [],
      "source": [
        "ax = sns.countplot(x='Fever',hue='COVID-19',data=covid_data, palette=\"PuRd\")\n",
        "for p in ax.patches:\n",
        "     ax.annotate(f'\\n{p.get_height()}', (p.get_x()+0.2, p.get_height()+100), ha='center', va='top', color='white', size=10)\n",
        "plt.show()"
      ]
    },
    {
      "cell_type": "code",
      "execution_count": null,
      "id": "-1-UPBqjpc54",
      "metadata": {
        "colab": {
          "base_uri": "https://localhost:8080/",
          "height": 280
        },
        "id": "-1-UPBqjpc54",
        "outputId": "c00cd70d-4971-40aa-96e9-8d9b3a47293e"
      },
      "outputs": [],
      "source": [
        "ax = sns.countplot(x='Dry Cough',hue='COVID-19',data=covid_data, palette=\"Set1\")\n",
        "for p in ax.patches:\n",
        "     ax.annotate(f'\\n{p.get_height()}', (p.get_x()+0.2, p.get_height()+100), ha='center', va='top', color='white', size=10)\n",
        "plt.show()"
      ]
    },
    {
      "cell_type": "code",
      "execution_count": null,
      "id": "QRxto9Mipc54",
      "metadata": {
        "colab": {
          "base_uri": "https://localhost:8080/",
          "height": 279
        },
        "id": "QRxto9Mipc54",
        "outputId": "12700b52-24f7-459e-ac70-08c043651cdf"
      },
      "outputs": [],
      "source": [
        "ax = sns.countplot(x='Sore throat',hue='COVID-19',data=covid_data, palette=\"Set2\")\n",
        "for p in ax.patches:\n",
        "     ax.annotate(f'\\n{p.get_height()}', (p.get_x()+0.2, p.get_height()+100), ha='center', va='top', color='white', size=10)\n",
        "plt.show()"
      ]
    },
    {
      "cell_type": "code",
      "execution_count": null,
      "id": "lka9O11Apc55",
      "metadata": {
        "colab": {
          "base_uri": "https://localhost:8080/",
          "height": 279
        },
        "id": "lka9O11Apc55",
        "outputId": "8ce4c9cb-bd2b-419b-8253-b06dcddb257c"
      },
      "outputs": [],
      "source": [
        "ax = sns.countplot(x='Abroad travel',hue='COVID-19',data=covid_data)\n",
        "for p in ax.patches:\n",
        "     ax.annotate(f'\\n{p.get_height()}', (p.get_x()+0.2, p.get_height()+100), ha='center', va='top', color='white', size=10)\n",
        "plt.show()"
      ]
    },
    {
      "cell_type": "code",
      "execution_count": null,
      "id": "J2u1xcPFpc55",
      "metadata": {
        "colab": {
          "base_uri": "https://localhost:8080/",
          "height": 279
        },
        "id": "J2u1xcPFpc55",
        "outputId": "31d4031b-1a81-4ab7-adcf-3b9b8c2d580c"
      },
      "outputs": [],
      "source": [
        "ax = sns.countplot(x='Contact with COVID Patient',hue='COVID-19',data=covid_data, palette=\"PuRd\")\n",
        "for p in ax.patches:\n",
        "     ax.annotate(f'\\n{p.get_height()}', (p.get_x()+0.2, p.get_height()+100), ha='center', va='top', color='white', size=10)\n",
        "plt.show()"
      ]
    },
    {
      "cell_type": "code",
      "execution_count": null,
      "id": "L9ImVq8Mpc55",
      "metadata": {
        "colab": {
          "base_uri": "https://localhost:8080/",
          "height": 279
        },
        "id": "L9ImVq8Mpc55",
        "outputId": "e79627ae-834a-46bd-f683-33e62a1ad9d4"
      },
      "outputs": [],
      "source": [
        "ax = sns.countplot(x='Attended Large Gathering',hue='COVID-19',data=covid_data, palette=\"Set1\")\n",
        "for p in ax.patches:\n",
        "     ax.annotate(f'\\n{p.get_height()}', (p.get_x()+0.2, p.get_height()+100), ha='center', va='top', color='white', size=10)\n",
        "plt.show()"
      ]
    },
    {
      "cell_type": "code",
      "execution_count": null,
      "id": "jObvznJ6pc55",
      "metadata": {
        "id": "jObvznJ6pc55"
      },
      "outputs": [],
      "source": [
        "e=LabelEncoder()"
      ]
    },
    {
      "cell_type": "code",
      "execution_count": null,
      "id": "tZTXhpg_pc55",
      "metadata": {
        "id": "tZTXhpg_pc55"
      },
      "outputs": [],
      "source": [
        "covid_data['Breathing Problem']=e.fit_transform(covid_data['Breathing Problem'])\n",
        "covid_data['Fever']=e.fit_transform(covid_data['Fever'])\n",
        "covid_data['Dry Cough']=e.fit_transform(covid_data['Dry Cough'])\n",
        "covid_data['Sore throat']=e.fit_transform(covid_data['Sore throat'])\n",
        "covid_data['Running Nose']=e.fit_transform(covid_data['Running Nose'])\n",
        "covid_data['Asthma']=e.fit_transform(covid_data['Asthma'])\n",
        "covid_data['Chronic Lung Disease']=e.fit_transform(covid_data['Chronic Lung Disease'])\n",
        "covid_data['Headache']=e.fit_transform(covid_data['Headache'])\n",
        "covid_data['Heart Disease']=e.fit_transform(covid_data['Heart Disease'])\n",
        "covid_data['Diabetes']=e.fit_transform(covid_data['Diabetes'])\n",
        "covid_data['Hyper Tension']=e.fit_transform(covid_data['Hyper Tension'])\n",
        "covid_data['Abroad travel']=e.fit_transform(covid_data['Abroad travel'])\n",
        "covid_data['Contact with COVID Patient']=e.fit_transform(covid_data['Contact with COVID Patient'])\n",
        "covid_data['Attended Large Gathering']=e.fit_transform(covid_data['Attended Large Gathering'])\n",
        "covid_data['Visited Public Exposed Places']=e.fit_transform(covid_data['Visited Public Exposed Places'])\n",
        "covid_data['Family working in Public Exposed Places']=e.fit_transform(covid_data['Family working in Public Exposed Places'])\n",
        "covid_data['Wearing Masks']=e.fit_transform(covid_data['Wearing Masks'])\n",
        "covid_data['Sanitization from Market']=e.fit_transform(covid_data['Sanitization from Market'])\n",
        "covid_data['COVID-19']=e.fit_transform(covid_data['COVID-19'])\n",
        "covid_data['Dry Cough']=e.fit_transform(covid_data['Dry Cough'])\n",
        "covid_data['Sore throat']=e.fit_transform(covid_data['Sore throat'])\n",
        "covid_data['Gastrointestinal ']=e.fit_transform(covid_data['Gastrointestinal '])\n",
        "covid_data['Fatigue ']=e.fit_transform(covid_data['Fatigue '])"
      ]
    },
    {
      "cell_type": "code",
      "execution_count": null,
      "id": "UmRF8TuHpc56",
      "metadata": {
        "colab": {
          "base_uri": "https://localhost:8080/",
          "height": 313
        },
        "id": "UmRF8TuHpc56",
        "outputId": "9b1fde38-c385-4af4-ca39-5e1deade152d"
      },
      "outputs": [],
      "source": [
        "covid_data.head()"
      ]
    },
    {
      "cell_type": "code",
      "execution_count": null,
      "id": "N01uDqDYpc56",
      "metadata": {
        "colab": {
          "base_uri": "https://localhost:8080/",
          "height": 530
        },
        "id": "N01uDqDYpc56",
        "outputId": "94a40c6e-fa53-415d-8e33-ee1272579f67"
      },
      "outputs": [],
      "source": [
        "covid_data"
      ]
    },
    {
      "cell_type": "code",
      "execution_count": null,
      "id": "6Y3q6RCWpc56",
      "metadata": {
        "colab": {
          "base_uri": "https://localhost:8080/",
          "height": 843
        },
        "id": "6Y3q6RCWpc56",
        "outputId": "afaa7212-afdb-4234-959a-5e236b54c311"
      },
      "outputs": [],
      "source": [
        "covid_data.hist(figsize=(20,15));"
      ]
    },
    {
      "cell_type": "code",
      "execution_count": null,
      "id": "Etb35zBFpc56",
      "metadata": {
        "colab": {
          "base_uri": "https://localhost:8080/",
          "height": 331
        },
        "id": "Etb35zBFpc56",
        "outputId": "35d4b26f-acb5-4ee0-d6c6-b02d7e1b574f"
      },
      "outputs": [],
      "source": [
        "print(covid_data['Wearing Masks'].value_counts())\n",
        "sns.countplot(x='Wearing Masks',data=covid_data)"
      ]
    },
    {
      "cell_type": "code",
      "execution_count": null,
      "id": "ZQSRFpEbpc56",
      "metadata": {
        "colab": {
          "base_uri": "https://localhost:8080/",
          "height": 331
        },
        "id": "ZQSRFpEbpc56",
        "outputId": "286edfd9-3e1d-4984-ad05-1388fb4312cb"
      },
      "outputs": [],
      "source": [
        "print(covid_data['Sanitization from Market'].value_counts())\n",
        "sns.countplot(x='Sanitization from Market',data=covid_data)"
      ]
    },
    {
      "cell_type": "code",
      "execution_count": null,
      "id": "SxGZqjRcpc56",
      "metadata": {
        "id": "SxGZqjRcpc56"
      },
      "outputs": [],
      "source": [
        "covid_data=covid_data.drop('Wearing Masks',axis=1)\n",
        "covid_data=covid_data.drop('Sanitization from Market',axis=1)"
      ]
    },
    {
      "cell_type": "code",
      "execution_count": null,
      "id": "kpLPtwUSpc56",
      "metadata": {
        "colab": {
          "base_uri": "https://localhost:8080/"
        },
        "id": "kpLPtwUSpc56",
        "outputId": "2d686ecc-262f-4ce4-9740-35548fcd42e0"
      },
      "outputs": [],
      "source": [
        "covid_data.columns"
      ]
    },
    {
      "cell_type": "code",
      "execution_count": null,
      "id": "pWF37fBvpc56",
      "metadata": {
        "colab": {
          "base_uri": "https://localhost:8080/",
          "height": 1000
        },
        "id": "pWF37fBvpc56",
        "outputId": "56367ddd-f31e-4d8c-cef2-c85576c2fe68"
      },
      "outputs": [],
      "source": [
        "plt.figure(figsize=(25,20))\n",
        "sns.heatmap(covid_data.corr(), annot=True, cmap=\"PuRd\")"
      ]
    },
    {
      "cell_type": "code",
      "execution_count": null,
      "id": "rDf5o3fmpc57",
      "metadata": {
        "id": "rDf5o3fmpc57"
      },
      "outputs": [],
      "source": [
        "x=covid_data.drop('COVID-19',axis=1)\n",
        "y=covid_data['COVID-19']\n",
        "x_train, x_test, y_train, y_test = train_test_split(x, y, test_size = 0.20, random_state = 101)"
      ]
    },
    {
      "cell_type": "code",
      "execution_count": null,
      "id": "fQ9nvVgXpc57",
      "metadata": {
        "id": "fQ9nvVgXpc57"
      },
      "outputs": [],
      "source": [
        "accuracies = {}\n",
        "algo_time={}\n",
        "r2_scores={}\n",
        "mean_squared_errors={}\n",
        "roc_auc_scores={}"
      ]
    },
    {
      "cell_type": "code",
      "execution_count": null,
      "id": "tT_hXNqjpc57",
      "metadata": {
        "id": "tT_hXNqjpc57"
      },
      "outputs": [],
      "source": [
        "def print_performance2(yt,clf,clf_name):\n",
        "    y_pred=clf.predict(x_test)\n",
        "    roc_auc_scores[clf_name]=roc_auc_score(yt,y_pred)*100\n",
        "    mean_squared_errors[clf_name]=mean_squared_error(yt,y_pred)*100\n",
        "    r2_scores[clf_name]=r2_score(yt,y_pred)*100\n",
        "    accuracies[clf_name]=clf.score(x_train,y_train)*100\n",
        "    print('ROC_AUC value :',roc_auc_scores[clf_name],\"%\",'\\n')\n",
        "    print(\"Mean Squared Error :\",mean_squared_errors[clf_name],\"%\")\n",
        "    print(\"\\nR2 score is :\",r2_scores[clf_name],\"%\")\n",
        "    print(\"\\nAccuracy Score :\",accuracies[clf_name],\"%\")\n",
        "    print('\\nClassification Report : ','\\n',classification_report(yt,y_pred))\n",
        "    \n",
        "    confusionmatrix=confusion_matrix(yt,y_pred)\n",
        "\n",
        "    fig, ax = plt.subplots(figsize=(3, 3))\n",
        "    ax.matshow(confusionmatrix, cmap=plt.cm.Blues, alpha=0.3)\n",
        "    for i in range(confusionmatrix.shape[0]):\n",
        "        for j in range(confusionmatrix.shape[1]):\n",
        "            ax.text(x=j, y=i,s=confusionmatrix[i, j], va='center', ha='center', size='xx-large')\n",
        " \n",
        "    plt.xlabel('Predictions', fontsize=18)\n",
        "    plt.ylabel('Actuals', fontsize=18)\n",
        "    plt.title('Confusion Matrix', fontsize=18)"
      ]
    },
    {
      "cell_type": "markdown",
      "id": "KHXjojbIpc57",
      "metadata": {
        "id": "KHXjojbIpc57"
      },
      "source": [
        "## LOGISTIC REGRESSION "
      ]
    },
    {
      "cell_type": "code",
      "execution_count": null,
      "id": "IK-psHyXpc58",
      "metadata": {
        "id": "IK-psHyXpc58"
      },
      "outputs": [],
      "source": []
    },
    {
      "cell_type": "code",
      "execution_count": null,
      "id": "1KjDvaIrpc58",
      "metadata": {
        "colab": {
          "base_uri": "https://localhost:8080/",
          "height": 574
        },
        "id": "1KjDvaIrpc58",
        "outputId": "08512b71-f7e6-41c6-c1dc-7aa12c1e13ad"
      },
      "outputs": [],
      "source": [
        "print(\"LOGISTIC REGRESSION\")\n",
        "start = time.time()\n",
        "lr = LogisticRegression()\n",
        "lr.fit(x_train, y_train)\n",
        "end = time.time()\n",
        "\n",
        "print_performance2(y_test,lr,'LOGISTIC REGRESSION')\n",
        "#acc = lr.score(x_train, y_train)*100\n",
        "#accuracies['LOGISTIC REGRESSION'] = acc\n",
        "algo_time['LOGISTIC REGRESSION']=end-start"
      ]
    },
    {
      "cell_type": "markdown",
      "id": "jgMTrjQepc58",
      "metadata": {
        "id": "jgMTrjQepc58"
      },
      "source": [
        "## K-NEAREST NEIGHBOURS "
      ]
    },
    {
      "cell_type": "code",
      "execution_count": null,
      "id": "NQ5WOs0Ppc58",
      "metadata": {
        "id": "NQ5WOs0Ppc58"
      },
      "outputs": [],
      "source": [
        "start = time.time()\n",
        "knn = KNeighborsClassifier()\n",
        "# assigning the dictionary of variables whose optimium value is to be retrieved\n",
        "param_grid = {'n_neighbors' : np.arange(1,50)}\n",
        "knn_cv = GridSearchCV(knn, param_grid, cv=5)\n",
        "# training the model with the training data and best parameter\n",
        "knn_cv.fit(x_train,y_train)\n",
        "end=time.time()\n",
        "algo_time['K-NEAREST NEIGHBOURS']=end-start"
      ]
    },
    {
      "cell_type": "code",
      "execution_count": null,
      "id": "YUDDgHShpc59",
      "metadata": {
        "colab": {
          "base_uri": "https://localhost:8080/"
        },
        "id": "YUDDgHShpc59",
        "outputId": "bd574d9a-9026-47d6-921a-824ff1fa9fb5"
      },
      "outputs": [],
      "source": [
        "# finding out the best parameter chosen to train the model\n",
        "print(\"The best paramter we have is: {}\" .format(knn_cv.best_params_))\n",
        "\n",
        "# finding out the best score the chosen parameter achieved\n",
        "print(\"The best score we have achieved is: {}\" .format(knn_cv.best_score_))"
      ]
    },
    {
      "cell_type": "code",
      "execution_count": null,
      "id": "-VHAL5brpc59",
      "metadata": {
        "colab": {
          "base_uri": "https://localhost:8080/",
          "height": 574
        },
        "id": "-VHAL5brpc59",
        "outputId": "f71401eb-b622-4d15-e58e-41b4e713e4aa"
      },
      "outputs": [],
      "source": [
        "print(\"K-NEAREST NEIGHBOURS\")\n",
        "print_performance2(y_test,knn_cv,'K-NEAREST NEIGHBOURS')\n",
        "#acc = knn_cv.score(x_train, y_train)*100\n",
        "#accuracies['K-NEAREST NEIGHBOURS'] = acc"
      ]
    },
    {
      "cell_type": "markdown",
      "id": "TcGkfon6pc59",
      "metadata": {
        "id": "TcGkfon6pc59"
      },
      "source": [
        "## RANDOM FOREST"
      ]
    },
    {
      "cell_type": "code",
      "execution_count": null,
      "id": "IVSVkG0Apc59",
      "metadata": {
        "id": "IVSVkG0Apc59"
      },
      "outputs": [],
      "source": [
        "rf_start=time.time()\n",
        "rfc=RandomForestClassifier(random_state=42)\n",
        "param_grid = { \n",
        "    'n_estimators': [200, 500],\n",
        "    'max_features': ['auto', 'sqrt', 'log2'],\n",
        "    'max_depth' : [4,5,6,7,8],\n",
        "    'criterion' :['gini', 'entropy']\n",
        "}\n",
        "CV_rfc = GridSearchCV(estimator=rfc, param_grid=param_grid, cv= 5)\n",
        "CV_rfc.fit(x_train, y_train)\n",
        "rf_end=time.time()\n",
        "algo_time['RANDOM FOREST TREE']=rf_end-rf_start"
      ]
    },
    {
      "cell_type": "code",
      "execution_count": null,
      "id": "tzqasXlzpc59",
      "metadata": {
        "colab": {
          "base_uri": "https://localhost:8080/"
        },
        "id": "tzqasXlzpc59",
        "outputId": "e87d67fc-a602-4c4b-f34f-c2078f56eef0"
      },
      "outputs": [],
      "source": [
        "# finding out the best parameter chosen to train the model\n",
        "print(\"The best paramter we have is: {}\" .format(CV_rfc.best_params_))\n",
        "\n",
        "# finding out the best score the chosen parameter achieved\n",
        "print(\"The best score we have achieved is: {}\" .format(CV_rfc.best_score_*100))"
      ]
    },
    {
      "cell_type": "code",
      "execution_count": null,
      "id": "vTsnzooypc59",
      "metadata": {
        "colab": {
          "base_uri": "https://localhost:8080/",
          "height": 574
        },
        "id": "vTsnzooypc59",
        "outputId": "a98664fb-6b96-4f38-cb81-a3f6169b5b52"
      },
      "outputs": [],
      "source": [
        "print(\"RANDOM FOREST TREE\")\n",
        "print_performance2(y_test,CV_rfc,'RANDOM FOREST TREE')\n",
        "#acc = CV_rfc.score(x_train, y_train)*100\n",
        "#accuracies['RANDOM FOREST TREE'] = acc"
      ]
    },
    {
      "cell_type": "markdown",
      "id": "-PnWmODBpc59",
      "metadata": {
        "id": "-PnWmODBpc59"
      },
      "source": [
        "## GRADIENT BOOSTING CLASSIFIER"
      ]
    },
    {
      "cell_type": "markdown",
      "id": "Bss-iGAYpc5-",
      "metadata": {
        "id": "Bss-iGAYpc5-"
      },
      "source": [
        "### Decision Tree"
      ]
    },
    {
      "cell_type": "markdown",
      "id": "aeKaCtIppc5_",
      "metadata": {
        "id": "aeKaCtIppc5_"
      },
      "source": [
        "### Naive bayes"
      ]
    },
    {
      "cell_type": "markdown",
      "id": "BBANkuWbpc5_",
      "metadata": {
        "id": "BBANkuWbpc5_"
      },
      "source": [
        "colors = [\"purple\", \"green\", \"orange\", \"blue\", \"red\", \"yellow\", \"magenta\"]\n",
        "\n",
        "sns.set_style(\"whitegrid\")\n",
        "plt.figure(figsize=(10,5))\n",
        "plt.yticks(np.arange(0,100,10))\n",
        "plt.ylabel(\"Accuracy %\")\n",
        "plt.xlabel(\"Algorithms\")\n",
        "plt.xticks(rotation=90)\n",
        "ax = sns.barplot(x=list(accuracies.keys()), y=list(accuracies.values()), palette=colors)\n",
        "plt.show()"
      ]
    },
    {
      "cell_type": "code",
      "execution_count": null,
      "id": "fACN3zkvpc5_",
      "metadata": {
        "colab": {
          "base_uri": "https://localhost:8080/"
        },
        "id": "fACN3zkvpc5_",
        "outputId": "3e05c39e-ffde-4ed2-8eb4-48a3c9ad9c43"
      },
      "outputs": [],
      "source": [
        "%conda install -c plotly plotly\n",
        "%pip install colorama"
      ]
    },
    {
      "cell_type": "code",
      "execution_count": null,
      "id": "XdSWcrk3pc5_",
      "metadata": {
        "colab": {
          "base_uri": "https://localhost:8080/",
          "height": 542
        },
        "id": "XdSWcrk3pc5_",
        "outputId": "b7638984-e654-4293-8e58-634422163268"
      },
      "outputs": [],
      "source": [
        "import plotly.express as px\n",
        "fig = px.bar(x=list(accuracies.keys()), y=list(accuracies.values()))\n",
        "fig.update_traces(marker_color='teal', marker_line_color='rgb(8,48,107)', marker_line_width=1.5)\n",
        "fig.update_layout(title=\"Accuracy Comparision\", xaxis_title=\"Model\", yaxis_title=\"Accuracy\")\n",
        "fig.show()"
      ]
    },
    {
      "cell_type": "code",
      "execution_count": null,
      "id": "MZRER_5Ppc6A",
      "metadata": {
        "colab": {
          "base_uri": "https://localhost:8080/",
          "height": 542
        },
        "id": "MZRER_5Ppc6A",
        "outputId": "1a0b0b52-e298-4207-a7a8-49380d5f67d9"
      },
      "outputs": [],
      "source": [
        "fig = px.bar(x=list(algo_time.keys()), y=list(algo_time.values()))\n",
        "fig.update_traces(marker_color='teal', marker_line_color='rgb(8,48,107)', marker_line_width=1.5)\n",
        "fig.update_layout(title=\"Algorithm Time Comparision\", xaxis_title=\"Model\", yaxis_title=\"\")\n",
        "fig.show()"
      ]
    },
    {
      "cell_type": "code",
      "execution_count": null,
      "id": "iZs_JN6_pc6A",
      "metadata": {
        "colab": {
          "base_uri": "https://localhost:8080/",
          "height": 542
        },
        "id": "iZs_JN6_pc6A",
        "outputId": "f1151843-d9ee-4eb5-ed4f-63b884b6c619"
      },
      "outputs": [],
      "source": [
        "fig = px.bar(x=list(r2_scores.keys()), y=list(r2_scores.values()))\n",
        "fig.update_traces(marker_color='teal', marker_line_color='rgb(8,48,107)', marker_line_width=1.5)\n",
        "fig.update_layout(title=\"R2 Score Comparision\", xaxis_title=\"Model\", yaxis_title=\"R2 Scores\")\n",
        "fig.show()"
      ]
    },
    {
      "cell_type": "code",
      "execution_count": null,
      "id": "OkuFfrvPpc6A",
      "metadata": {
        "colab": {
          "base_uri": "https://localhost:8080/",
          "height": 542
        },
        "id": "OkuFfrvPpc6A",
        "outputId": "135d9e00-00ab-4d46-bd6b-908db5392d8e"
      },
      "outputs": [],
      "source": [
        "fig = px.bar(x=list(mean_squared_errors.keys()), y=list(mean_squared_errors.values()))\n",
        "fig.update_traces(marker_color='teal', marker_line_color='rgb(8,48,107)', marker_line_width=1.5)\n",
        "fig.update_layout(title=\"Mean Squared Error Comparision\", xaxis_title=\"Model\", yaxis_title=\"Mean Squared Error\")\n",
        "fig.show()"
      ]
    },
    {
      "cell_type": "code",
      "execution_count": null,
      "id": "rDequGhRpc6A",
      "metadata": {
        "colab": {
          "base_uri": "https://localhost:8080/",
          "height": 542
        },
        "id": "rDequGhRpc6A",
        "outputId": "a7c00268-5be3-4d52-eed0-82cb29e7d8ad",
        "scrolled": false
      },
      "outputs": [],
      "source": [
        "fig = px.bar(x=list(roc_auc_scores.keys()), y=list(roc_auc_scores.values()))\n",
        "fig.update_traces(marker_color='teal', marker_line_color='rgb(8,48,107)', marker_line_width=1.5)\n",
        "fig.update_layout(title=\"ROC Score Comparision\", xaxis_title=\"Model\", yaxis_title=\"ROC Scores\")\n",
        "fig.show()"
      ]
    },
    {
      "cell_type": "code",
      "execution_count": null,
      "id": "18hLPRZRpc6A",
      "metadata": {
        "colab": {
          "base_uri": "https://localhost:8080/",
          "height": 542
        },
        "id": "18hLPRZRpc6A",
        "outputId": "4a51a969-43a6-4a5a-e721-ccfd4b3d9aa9"
      },
      "outputs": [],
      "source": [
        "import plotly.graph_objects as go\n",
        "Algos=list(roc_auc_scores.keys())\n",
        "\n",
        "fig = go.Figure(data=[\n",
        "    go.Bar(name='Accuracies', x=Algos, y=list(accuracies.values())),\n",
        "    go.Bar(name='R2 scores', x=Algos, y=list(r2_scores.values())),\n",
        "    go.Bar(name='Mean Squared Errors', x=Algos, y=list(mean_squared_errors.values())),\n",
        "    go.Bar(name='ROC Auc Scores', x=Algos, y=list(roc_auc_scores.values()))\n",
        "])\n",
        "# Change the bar mode\n",
        "fig.update_layout(barmode='group')\n",
        "fig.show()"
      ]
    },
    {
      "cell_type": "code",
      "execution_count": null,
      "id": "gJNlrShcpc6A",
      "metadata": {
        "colab": {
          "base_uri": "https://localhost:8080/",
          "height": 318
        },
        "id": "gJNlrShcpc6A",
        "outputId": "2d9e6f57-be9a-48e0-ba62-13aaed4e7782"
      },
      "outputs": [],
      "source": [
        "from sklearn.metrics import roc_curve\n",
        "plt.figure(figsize=(25,16))\n",
        "# Logistic Regression Classification\n",
        "Y_predict1_proba = lr.predict_proba(x_test)\n",
        "Y_predict1_proba = Y_predict1_proba[:, 1]\n",
        "fpr, tpr, thresholds = roc_curve(y_test, Y_predict1_proba)\n",
        "plt.subplot(441)\n",
        "plt.plot([0,1],[0,1],'k--')\n",
        "plt.plot(fpr,tpr, label='ANN')\n",
        "plt.xlabel('fpr')\n",
        "plt.ylabel('tpr')\n",
        "plt.title('ROC Curve Logistic Regression')\n",
        "plt.grid(True)\n",
        "\n",
        "Y_predict1_proba = knn_cv.predict_proba(x_test)\n",
        "Y_predict1_proba = Y_predict1_proba[:, 1]\n",
        "fpr, tpr, thresholds = roc_curve(y_test, Y_predict1_proba)\n",
        "plt.subplot(442)\n",
        "plt.plot([0,1],[0,1],'k--')\n",
        "plt.plot(fpr,tpr, label='ANN')\n",
        "plt.xlabel('fpr')\n",
        "plt.ylabel('tpr')\n",
        "plt.title('ROC Curve K-Nearest Neighbours')\n",
        "plt.grid(True)\n",
        "\n",
        "Y_predict1_proba = CV_rfc.predict_proba(x_test)\n",
        "Y_predict1_proba = Y_predict1_proba[:, 1]\n",
        "fpr, tpr, thresholds = roc_curve(y_test, Y_predict1_proba)\n",
        "plt.subplot(443)\n",
        "plt.plot([0,1],[0,1],'k--')\n",
        "plt.plot(fpr,tpr, label='ANN')\n",
        "plt.xlabel('fpr')\n",
        "plt.ylabel('tpr')\n",
        "plt.title('ROC Curve Random Forest Tree')\n",
        "plt.grid(True)\n",
        "\n",
        "plt.subplots_adjust(top=2, bottom=0.08, left=0.10, right=1.4, hspace=0.45, wspace=0.45)\n",
        "plt.show()"
      ]
    },
    {
      "cell_type": "code",
      "execution_count": null,
      "id": "Qwb09Z9epc6A",
      "metadata": {
        "colab": {
          "base_uri": "https://localhost:8080/"
        },
        "id": "Qwb09Z9epc6A",
        "outputId": "cff6b411-59b1-46ad-92cd-7eeb3df09548"
      },
      "outputs": [],
      "source": [
        "import colorama\n",
        "from colorama import Fore\n",
        "\n",
        "print(\"COVID PREDICTION BASED ON ML ALGORITHMS\")\n",
        "print(\"Enter 1 for Yes and 0 for No\")\n",
        "Breathing_Problem = int(input(\"Does the patient have breathing problem ? \"))\n",
        "Fever = int(input(\"Does the patient have fever ? \"))\n",
        "Dry_Cough = int(input(\"Does the patient have dry cough ? \"))\n",
        "Sore_throat = int(input(\"Does the patient have sore throat ? \"))\n",
        "Running_Nose = int(input(\"Does the patient have running nose ? \")) \n",
        "Asthma = int(input(\"Does the patient have any record of asthma ? \")) \n",
        "Chronic_Lung_Disease = int(input(\"Does the patient have any records of chronic lung disease ? \")) \n",
        "Headache = int(input(\"Is the patient having headche ? \"))\n",
        "Heart_Disease = int(input(\"Does the patient have any record of any heart disease ? \"))\n",
        "Diabetes = int(input(\"Does the patient have diabetes ? \"))\n",
        "Hyper_Tension = int(input(\"Does the patient have hyper tension ? \")) \n",
        "Fatigue = int(input(\"Does the patient experience fatigue ? \"))\n",
        "Gastrointestinal = int(input(\"Does the patient have any gastrointestinal disorders ? \"))\n",
        "Abroad_travel = int(input(\"Has the patient travelled abroad recently ? \"))\n",
        "Contact_with_COVID_Patient = int(input(\"Was the patient in contact with a covid patient recently ? \"))\n",
        "Attended_Large_Gathering = int(input(\"Did the patient attend any large gathering event recently ? \"))\n",
        "Visited_Public_Exposed_Places = int(input(\"Did the patient visit any public exposed places recently ? \"))\n",
        "Family_working_in_Public_Exposed_Places = int(input(\"Does the patient have any family member working in public exposed places ? \"))\n",
        "\n",
        "patient = [[Breathing_Problem,Fever,Dry_Cough,Sore_throat,Running_Nose,Asthma,Chronic_Lung_Disease,Headache,Heart_Disease,Diabetes,Hyper_Tension,Fatigue,Gastrointestinal,Abroad_travel,Contact_with_COVID_Patient,Attended_Large_Gathering,Visited_Public_Exposed_Places,Family_working_in_Public_Exposed_Places]]\n",
        "result = knn_cv.predict(patient)\n",
        "print(\"\\nResults : \",result)\n",
        "\n",
        "if result == 1:\n",
        "    print(Fore.RED + 'You may be affected with COVID-19 virus! Please get RTPCR test ASAP and stay in Quarantine for 14 days!')\n",
        "    print()\n",
        "else :\n",
        "    print(Fore.GREEN + 'You do not have any symptoms of COVID-19. Stay home! Stay safe!')\n",
        "    print()"
      ]
    },
    {
      "cell_type": "code",
      "execution_count": null,
      "id": "YLkBXJeFpc6A",
      "metadata": {
        "id": "YLkBXJeFpc6A"
      },
      "outputs": [],
      "source": []
    }
  ],
  "metadata": {
    "colab": {
      "name": "Copy of IT302_PnS_Final.ipynb",
      "provenance": []
    },
    "kernelspec": {
      "display_name": "Python 3",
      "language": "python",
      "name": "python3"
    },
    "language_info": {
      "codemirror_mode": {
        "name": "ipython",
        "version": 3
      },
      "file_extension": ".py",
      "mimetype": "text/x-python",
      "name": "python",
      "nbconvert_exporter": "python",
      "pygments_lexer": "ipython3",
      "version": "3.9.13"
    }
  },
  "nbformat": 4,
  "nbformat_minor": 5
}
